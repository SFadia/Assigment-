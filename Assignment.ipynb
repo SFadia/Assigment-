{
 "cells": [
  {
   "cell_type": "raw",
   "metadata": {},
   "source": [
    "questions That I need to answer in order to answer the main question what is the steps to lower the reurn and rejected orders \n",
    "1- get the successfully delivered rate shippemnt per company \n",
    "2-  what is the co relation between these faild orders \n",
    "3- is there a corelation between the location and the returned items \n",
    "4- cash vs credit  % and the refund and return between both cash and credit payments \n",
    "5- is there a certian day that has more rejected or exchange orders "
   ]
  },
  {
   "cell_type": "code",
   "execution_count": 40,
   "metadata": {},
   "outputs": [
    {
     "data": {
      "text/html": [
       "<div>\n",
       "<style scoped>\n",
       "    .dataframe tbody tr th:only-of-type {\n",
       "        vertical-align: middle;\n",
       "    }\n",
       "\n",
       "    .dataframe tbody tr th {\n",
       "        vertical-align: top;\n",
       "    }\n",
       "\n",
       "    .dataframe thead th {\n",
       "        text-align: right;\n",
       "    }\n",
       "</style>\n",
       "<table border=\"1\" class=\"dataframe\">\n",
       "  <thead>\n",
       "    <tr style=\"text-align: right;\">\n",
       "      <th></th>\n",
       "      <th>Order No</th>\n",
       "      <th>Type</th>\n",
       "      <th>Cash or Visa</th>\n",
       "      <th>Total</th>\n",
       "      <th>Lineitem sku</th>\n",
       "      <th>Billing Name</th>\n",
       "      <th>Billing Street</th>\n",
       "      <th>Billing City</th>\n",
       "      <th>BillingPhone</th>\n",
       "      <th>Notes</th>\n",
       "      <th>Shipping Company</th>\n",
       "      <th>Date</th>\n",
       "      <th>Money collocation</th>\n",
       "      <th>Shipping Updates</th>\n",
       "      <th>Reason</th>\n",
       "      <th>Governorate</th>\n",
       "    </tr>\n",
       "  </thead>\n",
       "  <tbody>\n",
       "    <tr>\n",
       "      <th>0</th>\n",
       "      <td>#26666</td>\n",
       "      <td>New</td>\n",
       "      <td>Cash</td>\n",
       "      <td>1071</td>\n",
       "      <td>(1)MNP13+(1)MBL13+(1)MBL23</td>\n",
       "      <td>Donia Soliman</td>\n",
       "      <td>Sheraton Heliopolis, 6 Mahmoud essmat hamdy, 6...</td>\n",
       "      <td>Heliopolis-Masaken Sheraton</td>\n",
       "      <td>2.01E+11</td>\n",
       "      <td>NaN</td>\n",
       "      <td>kindex</td>\n",
       "      <td>2/1/2022</td>\n",
       "      <td>DONE</td>\n",
       "      <td>Delivered</td>\n",
       "      <td>NaN</td>\n",
       "      <td>Cairo</td>\n",
       "    </tr>\n",
       "    <tr>\n",
       "      <th>1</th>\n",
       "      <td>#26670</td>\n",
       "      <td>New</td>\n",
       "      <td>Cash</td>\n",
       "      <td>720</td>\n",
       "      <td>(1)MCS23</td>\n",
       "      <td>Mahmoud Hefnawy</td>\n",
       "      <td>8شارع ترعة السواحل طناش الوراق, Elwaraaq</td>\n",
       "      <td>Warraq</td>\n",
       "      <td>2.01E+11</td>\n",
       "      <td>NaN</td>\n",
       "      <td>kindex</td>\n",
       "      <td>2/1/2022</td>\n",
       "      <td>DONE</td>\n",
       "      <td>Delivered</td>\n",
       "      <td>NaN</td>\n",
       "      <td>Warraq</td>\n",
       "    </tr>\n",
       "    <tr>\n",
       "      <th>2</th>\n",
       "      <td>#26674</td>\n",
       "      <td>New</td>\n",
       "      <td>Cash</td>\n",
       "      <td>955</td>\n",
       "      <td>(1)LA13+(1)WBH34</td>\n",
       "      <td>Nourhan Fathi</td>\n",
       "      <td>10,218 street degla maadi, 0</td>\n",
       "      <td>Maadi-Maadi Degla</td>\n",
       "      <td>2.01E+11</td>\n",
       "      <td>NaN</td>\n",
       "      <td>kindex</td>\n",
       "      <td>2/1/2022</td>\n",
       "      <td>DONE</td>\n",
       "      <td>Delivered</td>\n",
       "      <td>NaN</td>\n",
       "      <td>Cairo</td>\n",
       "    </tr>\n",
       "    <tr>\n",
       "      <th>3</th>\n",
       "      <td>#26679</td>\n",
       "      <td>New</td>\n",
       "      <td>Cash</td>\n",
       "      <td>1192</td>\n",
       "      <td>(1)ME36+(1)MT116+(1)ME56+(1)MT126+(1)MT146</td>\n",
       "      <td>Kareem Ismail</td>\n",
       "      <td>41 , ibrahim el refaey street , 8th zone , nas...</td>\n",
       "      <td>Nasr City</td>\n",
       "      <td>2.01E+11</td>\n",
       "      <td>NaN</td>\n",
       "      <td>kindex</td>\n",
       "      <td>2/1/2022</td>\n",
       "      <td>DONE</td>\n",
       "      <td>Delivered</td>\n",
       "      <td>NaN</td>\n",
       "      <td>Cairo</td>\n",
       "    </tr>\n",
       "    <tr>\n",
       "      <th>4</th>\n",
       "      <td>#26680</td>\n",
       "      <td>New</td>\n",
       "      <td>Cash</td>\n",
       "      <td>462.5</td>\n",
       "      <td>(1)LE12</td>\n",
       "      <td>Nada Hassan</td>\n",
       "      <td>7 el farik mohammed ibrahim, 25</td>\n",
       "      <td>Nasr City</td>\n",
       "      <td>2.01E+11</td>\n",
       "      <td>NaN</td>\n",
       "      <td>kindex</td>\n",
       "      <td>2/1/2022</td>\n",
       "      <td>DONE</td>\n",
       "      <td>Delivered</td>\n",
       "      <td>NaN</td>\n",
       "      <td>Cairo</td>\n",
       "    </tr>\n",
       "  </tbody>\n",
       "</table>\n",
       "</div>"
      ],
      "text/plain": [
       "  Order No Type Cash or Visa  Total  \\\n",
       "0   #26666  New         Cash   1071   \n",
       "1   #26670  New         Cash    720   \n",
       "2   #26674  New         Cash    955   \n",
       "3   #26679  New         Cash   1192   \n",
       "4   #26680  New         Cash  462.5   \n",
       "\n",
       "                                 Lineitem sku     Billing Name  \\\n",
       "0                  (1)MNP13+(1)MBL13+(1)MBL23    Donia Soliman   \n",
       "1                                    (1)MCS23  Mahmoud Hefnawy   \n",
       "2                            (1)LA13+(1)WBH34    Nourhan Fathi   \n",
       "3  (1)ME36+(1)MT116+(1)ME56+(1)MT126+(1)MT146    Kareem Ismail   \n",
       "4                                     (1)LE12      Nada Hassan   \n",
       "\n",
       "                                      Billing Street  \\\n",
       "0  Sheraton Heliopolis, 6 Mahmoud essmat hamdy, 6...   \n",
       "1           8شارع ترعة السواحل طناش الوراق, Elwaraaq   \n",
       "2                       10,218 street degla maadi, 0   \n",
       "3  41 , ibrahim el refaey street , 8th zone , nas...   \n",
       "4                    7 el farik mohammed ibrahim, 25   \n",
       "\n",
       "                  Billing City BillingPhone Notes Shipping Company      Date  \\\n",
       "0  Heliopolis-Masaken Sheraton     2.01E+11   NaN           kindex  2/1/2022   \n",
       "1                       Warraq     2.01E+11   NaN           kindex  2/1/2022   \n",
       "2            Maadi-Maadi Degla     2.01E+11   NaN           kindex  2/1/2022   \n",
       "3                    Nasr City     2.01E+11   NaN           kindex  2/1/2022   \n",
       "4                    Nasr City     2.01E+11   NaN           kindex  2/1/2022   \n",
       "\n",
       "  Money collocation Shipping Updates Reason Governorate  \n",
       "0              DONE        Delivered    NaN       Cairo  \n",
       "1              DONE        Delivered    NaN      Warraq  \n",
       "2              DONE        Delivered    NaN       Cairo  \n",
       "3              DONE        Delivered    NaN       Cairo  \n",
       "4              DONE        Delivered    NaN       Cairo  "
      ]
     },
     "execution_count": 40,
     "metadata": {},
     "output_type": "execute_result"
    }
   ],
   "source": [
    "#First, I load the data and import the libraries that I may use import pandas as PD \n",
    "import numpy as np \n",
    "%matplotlib inline\n",
    "import matplotlib.pyplot as plt\n",
    "import pandas as pd\n",
    "\n",
    "df=pd.read_csv(r'C:\\Users\\FADIA\\Downloads\\Sigma Fit  - Sheet1.csv')\n",
    "df.head()"
   ]
  },
  {
   "cell_type": "code",
   "execution_count": 41,
   "metadata": {},
   "outputs": [
    {
     "data": {
      "text/html": [
       "<div>\n",
       "<style scoped>\n",
       "    .dataframe tbody tr th:only-of-type {\n",
       "        vertical-align: middle;\n",
       "    }\n",
       "\n",
       "    .dataframe tbody tr th {\n",
       "        vertical-align: top;\n",
       "    }\n",
       "\n",
       "    .dataframe thead th {\n",
       "        text-align: right;\n",
       "    }\n",
       "</style>\n",
       "<table border=\"1\" class=\"dataframe\">\n",
       "  <thead>\n",
       "    <tr style=\"text-align: right;\">\n",
       "      <th></th>\n",
       "      <th>Order No</th>\n",
       "      <th>Type</th>\n",
       "      <th>Cash or Visa</th>\n",
       "      <th>Total</th>\n",
       "      <th>Billing City</th>\n",
       "      <th>Governorate</th>\n",
       "      <th>Shipping Company</th>\n",
       "      <th>Date</th>\n",
       "      <th>Money collocation</th>\n",
       "      <th>Shipping Updates</th>\n",
       "    </tr>\n",
       "  </thead>\n",
       "  <tbody>\n",
       "    <tr>\n",
       "      <th>0</th>\n",
       "      <td>#26666</td>\n",
       "      <td>New</td>\n",
       "      <td>Cash</td>\n",
       "      <td>1071</td>\n",
       "      <td>Heliopolis-Masaken Sheraton</td>\n",
       "      <td>Cairo</td>\n",
       "      <td>kindex</td>\n",
       "      <td>2/1/2022</td>\n",
       "      <td>DONE</td>\n",
       "      <td>Delivered</td>\n",
       "    </tr>\n",
       "    <tr>\n",
       "      <th>1</th>\n",
       "      <td>#26670</td>\n",
       "      <td>New</td>\n",
       "      <td>Cash</td>\n",
       "      <td>720</td>\n",
       "      <td>Warraq</td>\n",
       "      <td>Warraq</td>\n",
       "      <td>kindex</td>\n",
       "      <td>2/1/2022</td>\n",
       "      <td>DONE</td>\n",
       "      <td>Delivered</td>\n",
       "    </tr>\n",
       "    <tr>\n",
       "      <th>2</th>\n",
       "      <td>#26674</td>\n",
       "      <td>New</td>\n",
       "      <td>Cash</td>\n",
       "      <td>955</td>\n",
       "      <td>Maadi-Maadi Degla</td>\n",
       "      <td>Cairo</td>\n",
       "      <td>kindex</td>\n",
       "      <td>2/1/2022</td>\n",
       "      <td>DONE</td>\n",
       "      <td>Delivered</td>\n",
       "    </tr>\n",
       "    <tr>\n",
       "      <th>3</th>\n",
       "      <td>#26679</td>\n",
       "      <td>New</td>\n",
       "      <td>Cash</td>\n",
       "      <td>1192</td>\n",
       "      <td>Nasr City</td>\n",
       "      <td>Cairo</td>\n",
       "      <td>kindex</td>\n",
       "      <td>2/1/2022</td>\n",
       "      <td>DONE</td>\n",
       "      <td>Delivered</td>\n",
       "    </tr>\n",
       "    <tr>\n",
       "      <th>4</th>\n",
       "      <td>#26680</td>\n",
       "      <td>New</td>\n",
       "      <td>Cash</td>\n",
       "      <td>462.5</td>\n",
       "      <td>Nasr City</td>\n",
       "      <td>Cairo</td>\n",
       "      <td>kindex</td>\n",
       "      <td>2/1/2022</td>\n",
       "      <td>DONE</td>\n",
       "      <td>Delivered</td>\n",
       "    </tr>\n",
       "  </tbody>\n",
       "</table>\n",
       "</div>"
      ],
      "text/plain": [
       "  Order No Type Cash or Visa  Total                 Billing City Governorate  \\\n",
       "0   #26666  New         Cash   1071  Heliopolis-Masaken Sheraton       Cairo   \n",
       "1   #26670  New         Cash    720                       Warraq      Warraq   \n",
       "2   #26674  New         Cash    955            Maadi-Maadi Degla       Cairo   \n",
       "3   #26679  New         Cash   1192                    Nasr City       Cairo   \n",
       "4   #26680  New         Cash  462.5                    Nasr City       Cairo   \n",
       "\n",
       "  Shipping Company      Date Money collocation Shipping Updates  \n",
       "0           kindex  2/1/2022              DONE        Delivered  \n",
       "1           kindex  2/1/2022              DONE        Delivered  \n",
       "2           kindex  2/1/2022              DONE        Delivered  \n",
       "3           kindex  2/1/2022              DONE        Delivered  \n",
       "4           kindex  2/1/2022              DONE        Delivered  "
      ]
     },
     "execution_count": 41,
     "metadata": {},
     "output_type": "execute_result"
    }
   ],
   "source": [
    "\n",
    "df2 = df.filter(['Order No','Type','Cash or Visa','Total','Billing City','Governorate','Shipping Company','Date','Money collocation','Shipping Updates'\n",
    "        ], axis=1)\n",
    "df2[\"Date\"].replace({\"16-Jan\": \"16/1/2022\", \"13-Jan\": \"13/1/2022\",\"17-Jan\":\"17/1/2022\",\"12-Jan\":\"12/1/2022\",\"23-1-2022\":\"23/1/2022\"}, inplace=True)\n",
    "\n",
    "df2.head()"
   ]
  },
  {
   "cell_type": "code",
   "execution_count": 42,
   "metadata": {},
   "outputs": [
    {
     "data": {
      "text/plain": [
       "['Bosta', 'Ehab', 'Mylerz', 'kareem', 'kindex', 'aramex', 'Islam', 'WHR']"
      ]
     },
     "execution_count": 42,
     "metadata": {},
     "output_type": "execute_result"
    }
   ],
   "source": [
    "list(df2['Shipping Company'].value_counts().keys())\n"
   ]
  },
  {
   "cell_type": "code",
   "execution_count": 43,
   "metadata": {},
   "outputs": [],
   "source": [
    "delivered = df2[df2['Shipping Updates']=='Delivered']\n"
   ]
  },
  {
   "cell_type": "code",
   "execution_count": 44,
   "metadata": {},
   "outputs": [
    {
     "name": "stdout",
     "output_type": "stream",
     "text": [
      " compared sucess rate = 0.33\n",
      " sucess rate = 0.91\n",
      " total orders= 431\n"
     ]
    }
   ],
   "source": [
    "Bosta_del = delivered[delivered['Shipping Company']=='Bosta']\n",
    "Bosta_orders = df2[df2['Shipping Company']=='Bosta']\n",
    "x = len(Bosta_del)/len(Bosta_orders)\n",
    "d = len(Bosta_del)/len(delivered)\n",
    "ab = df2[df2['Shipping Company']=='Bosta']\n",
    "ac= len(ab)\n",
    "print (' compared sucess rate =', round(d,2))\n",
    "print (' sucess rate =',round(x,2))\n",
    "print (' total orders=',ac)\n",
    "\n"
   ]
  },
  {
   "cell_type": "code",
   "execution_count": 45,
   "metadata": {},
   "outputs": [
    {
     "name": "stdout",
     "output_type": "stream",
     "text": [
      " compared sucess rate = 0.22\n",
      " sucess rate = 0.91\n",
      " total orders= 290\n"
     ]
    }
   ],
   "source": [
    "Ehab_del = delivered[delivered['Shipping Company']=='Ehab']\n",
    "Ehab_orders = df2[df2['Shipping Company']=='Ehab']\n",
    "ae = df2[df2['Shipping Company']=='Ehab']\n",
    "ad= len(ae)\n",
    "e = len(Ehab_del)/len(delivered)\n",
    "p = len(Ehab_del)/len(Ehab_orders)\n",
    "print (' compared sucess rate =', round(e,2))\n",
    "print (' sucess rate =',round(p,2))\n",
    "print (' total orders=',ad)"
   ]
  },
  {
   "cell_type": "code",
   "execution_count": 46,
   "metadata": {},
   "outputs": [
    {
     "name": "stdout",
     "output_type": "stream",
     "text": [
      " compared sucess rate = 0.19\n",
      " sucess rate = 0.89\n",
      " total orders= 256\n"
     ]
    }
   ],
   "source": [
    "Mylerz_del = delivered[delivered['Shipping Company']=='Mylerz']\n",
    "Mylerz_orders = df2[df2['Shipping Company']=='Mylerz']\n",
    "n = len(Mylerz_del)/len(Mylerz_orders)\n",
    "f = len(Mylerz_del)/len(delivered)\n",
    "fn = df2[df2['Shipping Company']=='Mylerz']\n",
    "nf= len(fn)\n",
    "print (' compared sucess rate =', round(f,2))\n",
    "print (' sucess rate =',round(n,2))\n",
    "print (' total orders=',nf)"
   ]
  },
  {
   "cell_type": "code",
   "execution_count": 47,
   "metadata": {},
   "outputs": [
    {
     "name": "stdout",
     "output_type": "stream",
     "text": [
      " compared sucess rate = 0.16\n",
      " sucess rate = 0.88\n",
      " total orders= 219\n"
     ]
    }
   ],
   "source": [
    "kareem_del = delivered[delivered['Shipping Company']=='kareem']\n",
    "kareem_orders = df2[df2['Shipping Company']=='kareem']\n",
    "o = len(kareem_del)/len(kareem_orders)\n",
    "g = len(kareem_del)/len(delivered)\n",
    "go = df2[df2['Shipping Company']=='kareem']\n",
    "og= len(go)\n",
    "print (' compared sucess rate =', round(g,2))\n",
    "print (' sucess rate =',round(o,2))\n",
    "print (' total orders=',og)"
   ]
  },
  {
   "cell_type": "code",
   "execution_count": 48,
   "metadata": {},
   "outputs": [
    {
     "name": "stdout",
     "output_type": "stream",
     "text": [
      " compared sucess rate = 0.07\n",
      " sucess rate = 0.91\n",
      " total orders= 91\n"
     ]
    }
   ],
   "source": [
    "kindex_del = delivered[delivered['Shipping Company']=='kindex']\n",
    "kindex_orders = df2[df2['Shipping Company']=='kindex']\n",
    "z = len(kindex_del)/len(kindex_orders)\n",
    "c = len(kindex_del)/len(delivered)\n",
    "zc = df2[df2['Shipping Company']=='kindex']\n",
    "cz= len(zc)\n",
    "print (' compared sucess rate =', round(c,2))\n",
    "print (' sucess rate =',round(z,2))\n",
    "print (' total orders=',cz)\n",
    "\n"
   ]
  },
  {
   "cell_type": "code",
   "execution_count": 49,
   "metadata": {},
   "outputs": [
    {
     "name": "stdout",
     "output_type": "stream",
     "text": [
      " compared sucess rate = 0.02\n",
      " sucess rate = 0.87\n",
      " total orders= 23\n"
     ]
    }
   ],
   "source": [
    "aramex_del = delivered[delivered['Shipping Company']=='aramex']\n",
    "aramex_orders = df2[df2['Shipping Company']=='aramex']\n",
    "h = len(aramex_del)/len(delivered)\n",
    "q = len(aramex_del)/len(aramex_orders)\n",
    "hq = df2[df2['Shipping Company']=='aramex']\n",
    "qh= len(hq)\n",
    "\n",
    "print (' compared sucess rate =', round(h,2))\n",
    "print (' sucess rate =',round(q,2))\n",
    "print (' total orders=',qh)\n"
   ]
  },
  {
   "cell_type": "code",
   "execution_count": 50,
   "metadata": {},
   "outputs": [
    {
     "name": "stdout",
     "output_type": "stream",
     "text": [
      " compared sucess rate = 0.0\n",
      " sucess rate = 1.0\n",
      " total orders= 2\n"
     ]
    }
   ],
   "source": [
    "WHR_del = delivered[delivered['Shipping Company']=='WHR']\n",
    "WHR_orders = df2[df2['Shipping Company']=='WHR']\n",
    "m = len(WHR_del)/len(WHR_orders)\n",
    "i = len(WHR_del)/len(delivered)\n",
    "mi = df2[df2['Shipping Company']=='WHR']\n",
    "im= len(mi)\n",
    "print (' compared sucess rate =', round(i,2))\n",
    "print (' sucess rate =',round(m,2))\n",
    "print (' total orders=',im)\n"
   ]
  },
  {
   "cell_type": "code",
   "execution_count": 51,
   "metadata": {},
   "outputs": [
    {
     "name": "stdout",
     "output_type": "stream",
     "text": [
      " compared sucess rate = 0.0\n",
      " sucess rate = 1.0\n",
      " total orders= 2\n"
     ]
    }
   ],
   "source": [
    "Islam_del = delivered[delivered['Shipping Company']=='Islam']\n",
    "Islam_orders = df2[df2['Shipping Company']=='Islam']\n",
    "j = len(Islam_del)/len(delivered)\n",
    "l = len(Islam_del)/len(Islam_orders)\n",
    "lj =df2[df2['Shipping Company']=='Islam']\n",
    "jl= len(lj)\n",
    "print (' compared sucess rate =', round(j,2))\n",
    "print (' sucess rate =',round(l,2))\n",
    "print (' total orders=',jl)\n"
   ]
  },
  {
   "cell_type": "code",
   "execution_count": 52,
   "metadata": {},
   "outputs": [],
   "source": [
    "data = {'company_name': ['Bosta', 'Ehab', 'Mylerz', 'kareem', 'kindex', 'aramex', 'WHR', 'Islam'],\n",
    "        'compared_sucess_rate': [0.33,0.22,0.19,0.16,0.19,0.02,1,1],\n",
    "        'sucess_rate':[0.91,0.91,0.89,0.88,0.91,0.81,0.0,0.0],\n",
    "        'total_orders':[431,290,256,219,91,23,2,2]\n",
    "        }\n",
    "\n",
    "sucess_rates = pd.DataFrame(data)\n",
    "\n",
    "sucess_rates\n",
    "\n",
    "datatoexcel = pd.ExcelWriter('sucess_rates.xlsx')\n",
    "  \n",
    "# write DataFrame to excel\n",
    "sucess_rates.to_excel(datatoexcel)\n",
    "  \n",
    "# save the excel\n",
    "datatoexcel.save()"
   ]
  },
  {
   "cell_type": "raw",
   "metadata": {},
   "source": [
    "whr and isalm shipping companies will be considered as outliers "
   ]
  },
  {
   "cell_type": "code",
   "execution_count": 53,
   "metadata": {},
   "outputs": [],
   "source": [
    "de= sucess_rates.head(6)"
   ]
  },
  {
   "cell_type": "code",
   "execution_count": 54,
   "metadata": {},
   "outputs": [
    {
     "name": "stdout",
     "output_type": "stream",
     "text": [
      "avg sucess_rate    0.89\n",
      "dtype: float64\n"
     ]
    }
   ],
   "source": [
    "dd= de[['sucess_rate']].mean()\n",
    "print('avg',+(round(dd,2)))"
   ]
  },
  {
   "cell_type": "code",
   "execution_count": 55,
   "metadata": {},
   "outputs": [
    {
     "data": {
      "text/html": [
       "<div>\n",
       "<style scoped>\n",
       "    .dataframe tbody tr th:only-of-type {\n",
       "        vertical-align: middle;\n",
       "    }\n",
       "\n",
       "    .dataframe tbody tr th {\n",
       "        vertical-align: top;\n",
       "    }\n",
       "\n",
       "    .dataframe thead th {\n",
       "        text-align: right;\n",
       "    }\n",
       "</style>\n",
       "<table border=\"1\" class=\"dataframe\">\n",
       "  <thead>\n",
       "    <tr style=\"text-align: right;\">\n",
       "      <th></th>\n",
       "      <th>company_name</th>\n",
       "      <th>compared_sucess_rate</th>\n",
       "      <th>sucess_rate</th>\n",
       "      <th>total_orders</th>\n",
       "    </tr>\n",
       "  </thead>\n",
       "  <tbody>\n",
       "    <tr>\n",
       "      <th>0</th>\n",
       "      <td>Bosta</td>\n",
       "      <td>0.33</td>\n",
       "      <td>0.91</td>\n",
       "      <td>431</td>\n",
       "    </tr>\n",
       "    <tr>\n",
       "      <th>1</th>\n",
       "      <td>Ehab</td>\n",
       "      <td>0.22</td>\n",
       "      <td>0.91</td>\n",
       "      <td>290</td>\n",
       "    </tr>\n",
       "    <tr>\n",
       "      <th>2</th>\n",
       "      <td>Mylerz</td>\n",
       "      <td>0.19</td>\n",
       "      <td>0.89</td>\n",
       "      <td>256</td>\n",
       "    </tr>\n",
       "    <tr>\n",
       "      <th>4</th>\n",
       "      <td>kindex</td>\n",
       "      <td>0.19</td>\n",
       "      <td>0.91</td>\n",
       "      <td>91</td>\n",
       "    </tr>\n",
       "  </tbody>\n",
       "</table>\n",
       "</div>"
      ],
      "text/plain": [
       "  company_name  compared_sucess_rate  sucess_rate  total_orders\n",
       "0        Bosta                  0.33         0.91           431\n",
       "1         Ehab                  0.22         0.91           290\n",
       "2       Mylerz                  0.19         0.89           256\n",
       "4       kindex                  0.19         0.91            91"
      ]
     },
     "execution_count": 55,
     "metadata": {},
     "output_type": "execute_result"
    }
   ],
   "source": [
    "successful_shipping = sucess_rates[sucess_rates['sucess_rate']>= 0.89]\n",
    "df9 = successful_shipping\n",
    "df9\n",
    "#df9 = pd.DataFrame(data)\n",
    "\n",
    "\n",
    "#datatoexcel = pd.ExcelWriter('df9.xlsx')\n",
    "  \n",
    "# write DataFrame to excel\n",
    "\n",
    "#df9.to_excel(datatoexcel)\n",
    "  \n",
    "# save the excel\n",
    "#datatoexcel.save()\n"
   ]
  },
  {
   "cell_type": "raw",
   "metadata": {},
   "source": [
    "First Solution : give the biggest amout of your orders to the above 4 companies as thier sucess rates is above avarge "
   ]
  },
  {
   "cell_type": "markdown",
   "metadata": {},
   "source": []
  },
  {
   "cell_type": "code",
   "execution_count": 56,
   "metadata": {},
   "outputs": [
    {
     "name": "stdout",
     "output_type": "stream",
     "text": [
      "credit payments= 0.14 cash payments= 0.86 total_visa_paymnets= 186 total_cash_payments= 1128\n"
     ]
    }
   ],
   "source": [
    "list(df2['Cash or Visa'].value_counts().keys())\n",
    "credit_payments = df2[df2['Cash or Visa']=='visa']\n",
    "cash=df2[df2['Cash or Visa']=='Cash']\n",
    "cc=len(credit_payments)/len(df2)\n",
    "ch=len(cash)/len(df2)\n",
    "tvp = len(credit_payments)\n",
    "tcp= len(cash)\n",
    "print('credit payments=',round(cc,2),\n",
    "     'cash payments=',round(ch,2),\n",
    "     'total_visa_paymnets=',tvp,\n",
    "     'total_cash_payments=',tcp)"
   ]
  },
  {
   "cell_type": "code",
   "execution_count": 57,
   "metadata": {},
   "outputs": [
    {
     "name": "stdout",
     "output_type": "stream",
     "text": [
      "Refused & returned_visa= 2 Cancel_visa= 2 Refused & returned_cash= 107 Cancel_cash= 18\n"
     ]
    }
   ],
   "source": [
    "ui=len(df2[(df2['Cash or Visa']=='visa') & (df2['Shipping Updates'] =='Refused & returned')])\n",
    "iu=len(df2[(df2['Cash or Visa']=='visa') & (df2['Shipping Updates'] =='Cancel')])\n",
    "ci=len(df2[(df2['Cash or Visa']=='Cash') & (df2['Shipping Updates'] =='Refused & returned')])\n",
    "ic=len(df2[(df2['Cash or Visa']=='Cash') & (df2['Shipping Updates'] =='Cancel')])\n",
    "print ('Refused & returned_visa=',ui,'Cancel_visa=',iu,'Refused & returned_cash=',ci,'Cancel_cash=',ic)\n"
   ]
  },
  {
   "cell_type": "code",
   "execution_count": 58,
   "metadata": {},
   "outputs": [
    {
     "data": {
      "text/plain": [
       "0.09"
      ]
     },
     "execution_count": 58,
     "metadata": {},
     "output_type": "execute_result"
    }
   ],
   "source": [
    "credit_payments = df2[df2['Cash or Visa']=='visa']\n",
    "cash=df2[df2['Cash or Visa']=='Cash']\n",
    "ref_cash=(df2[(df2['Cash or Visa']=='Cash') & (df2['Shipping Updates'] =='Refused & returned')])\n",
    "cancel_cash=(df2[(df2['Cash or Visa']=='Cash') & (df2['Shipping Updates'] =='Cancel')])\n",
    "ref_visa=(df2[(df2['Cash or Visa']=='visa') & (df2['Shipping Updates'] =='Refused & returned')])\n",
    "cancelled_visa=(df2[(df2['Cash or Visa']=='visa') & (df2['Shipping Updates'] =='Cancel')])\n",
    "#(round(len(cancelled_visa)/len(credit_payments),2))\n",
    "(round(len(cancel_cash)/len(cash),2))\n",
    "(round(len(ref_cash)/len(cash),2))\n"
   ]
  },
  {
   "cell_type": "code",
   "execution_count": 62,
   "metadata": {},
   "outputs": [
    {
     "data": {
      "text/html": [
       "<div>\n",
       "<style scoped>\n",
       "    .dataframe tbody tr th:only-of-type {\n",
       "        vertical-align: middle;\n",
       "    }\n",
       "\n",
       "    .dataframe tbody tr th {\n",
       "        vertical-align: top;\n",
       "    }\n",
       "\n",
       "    .dataframe thead th {\n",
       "        text-align: right;\n",
       "    }\n",
       "</style>\n",
       "<table border=\"1\" class=\"dataframe\">\n",
       "  <thead>\n",
       "    <tr style=\"text-align: right;\">\n",
       "      <th></th>\n",
       "      <th>date</th>\n",
       "      <th>total_orders</th>\n",
       "    </tr>\n",
       "  </thead>\n",
       "  <tbody>\n",
       "    <tr>\n",
       "      <th>15</th>\n",
       "      <td>18/1/2022</td>\n",
       "      <td>32</td>\n",
       "    </tr>\n",
       "    <tr>\n",
       "      <th>16</th>\n",
       "      <td>12/1/2022</td>\n",
       "      <td>31</td>\n",
       "    </tr>\n",
       "    <tr>\n",
       "      <th>17</th>\n",
       "      <td>26/1/2022</td>\n",
       "      <td>31</td>\n",
       "    </tr>\n",
       "    <tr>\n",
       "      <th>18</th>\n",
       "      <td>19/1/2022</td>\n",
       "      <td>28</td>\n",
       "    </tr>\n",
       "    <tr>\n",
       "      <th>19</th>\n",
       "      <td>20/1/2022</td>\n",
       "      <td>26</td>\n",
       "    </tr>\n",
       "  </tbody>\n",
       "</table>\n",
       "</div>"
      ],
      "text/plain": [
       "         date  total_orders\n",
       "15  18/1/2022            32\n",
       "16  12/1/2022            31\n",
       "17  26/1/2022            31\n",
       "18  19/1/2022            28\n",
       "19  20/1/2022            26"
      ]
     },
     "execution_count": 62,
     "metadata": {},
     "output_type": "execute_result"
    }
   ],
   "source": [
    "Data2={ 'date':['30/1/2022',\n",
    " '2/1/2022',\n",
    " '9/1/2022',\n",
    " '23/1/2022',\n",
    " '16/1/2022',\n",
    " '5/1/2022',\n",
    " '31/1/2022',\n",
    " '4/1/2022',\n",
    " '3/1/2022',\n",
    " '25/1/2022',\n",
    " '11/1/2022',\n",
    " '13/1/2022',\n",
    " '24/1/2022',\n",
    " '17/1/2022',\n",
    " '10/1/2022',\n",
    " '18/1/2022',\n",
    " '12/1/2022',\n",
    " '26/1/2022',\n",
    " '19/1/2022',\n",
    " '20/1/2022'],\n",
    "      'total_orders':[198,184,134,100,96,64,57,51,49,47,39,38,38,37,34,32,31,31,28,26]}\n",
    "orders_per_day = pd.DataFrame(Data2)\n",
    "\n",
    "orders_per_day.tail()\n"
   ]
  },
  {
   "cell_type": "code",
   "execution_count": 63,
   "metadata": {},
   "outputs": [
    {
     "data": {
      "text/html": [
       "<div>\n",
       "<style scoped>\n",
       "    .dataframe tbody tr th:only-of-type {\n",
       "        vertical-align: middle;\n",
       "    }\n",
       "\n",
       "    .dataframe tbody tr th {\n",
       "        vertical-align: top;\n",
       "    }\n",
       "\n",
       "    .dataframe thead th {\n",
       "        text-align: right;\n",
       "    }\n",
       "</style>\n",
       "<table border=\"1\" class=\"dataframe\">\n",
       "  <thead>\n",
       "    <tr style=\"text-align: right;\">\n",
       "      <th></th>\n",
       "      <th>date</th>\n",
       "      <th>total_orders</th>\n",
       "    </tr>\n",
       "  </thead>\n",
       "  <tbody>\n",
       "    <tr>\n",
       "      <th>0</th>\n",
       "      <td>30/1/2022</td>\n",
       "      <td>198</td>\n",
       "    </tr>\n",
       "    <tr>\n",
       "      <th>1</th>\n",
       "      <td>2/1/2022</td>\n",
       "      <td>184</td>\n",
       "    </tr>\n",
       "    <tr>\n",
       "      <th>2</th>\n",
       "      <td>9/1/2022</td>\n",
       "      <td>134</td>\n",
       "    </tr>\n",
       "    <tr>\n",
       "      <th>3</th>\n",
       "      <td>23/1/2022</td>\n",
       "      <td>100</td>\n",
       "    </tr>\n",
       "    <tr>\n",
       "      <th>4</th>\n",
       "      <td>16/1/2022</td>\n",
       "      <td>96</td>\n",
       "    </tr>\n",
       "  </tbody>\n",
       "</table>\n",
       "</div>"
      ],
      "text/plain": [
       "        date  total_orders\n",
       "0  30/1/2022           198\n",
       "1   2/1/2022           184\n",
       "2   9/1/2022           134\n",
       "3  23/1/2022           100\n",
       "4  16/1/2022            96"
      ]
     },
     "execution_count": 63,
     "metadata": {},
     "output_type": "execute_result"
    }
   ],
   "source": [
    "above_order_avg = orders_per_day[orders_per_day['total_orders']>= 65]\n",
    "above_order_avg"
   ]
  },
  {
   "cell_type": "code",
   "execution_count": 64,
   "metadata": {},
   "outputs": [
    {
     "data": {
      "text/html": [
       "<div>\n",
       "<style scoped>\n",
       "    .dataframe tbody tr th:only-of-type {\n",
       "        vertical-align: middle;\n",
       "    }\n",
       "\n",
       "    .dataframe tbody tr th {\n",
       "        vertical-align: top;\n",
       "    }\n",
       "\n",
       "    .dataframe thead th {\n",
       "        text-align: right;\n",
       "    }\n",
       "</style>\n",
       "<table border=\"1\" class=\"dataframe\">\n",
       "  <thead>\n",
       "    <tr style=\"text-align: right;\">\n",
       "      <th></th>\n",
       "      <th>Order No</th>\n",
       "      <th>Type</th>\n",
       "      <th>Cash or Visa</th>\n",
       "      <th>Total</th>\n",
       "      <th>Billing City</th>\n",
       "      <th>Governorate</th>\n",
       "      <th>Shipping Company</th>\n",
       "      <th>Date</th>\n",
       "      <th>Money collocation</th>\n",
       "      <th>Shipping Updates</th>\n",
       "    </tr>\n",
       "  </thead>\n",
       "  <tbody>\n",
       "    <tr>\n",
       "      <th>6</th>\n",
       "      <td>#26687</td>\n",
       "      <td>New</td>\n",
       "      <td>Cash</td>\n",
       "      <td>311</td>\n",
       "      <td>Nasr City</td>\n",
       "      <td>Cairo</td>\n",
       "      <td>kindex</td>\n",
       "      <td>2/1/2022</td>\n",
       "      <td>NaN</td>\n",
       "      <td>Refused &amp; returned</td>\n",
       "    </tr>\n",
       "    <tr>\n",
       "      <th>12</th>\n",
       "      <td>#26052</td>\n",
       "      <td>Exchange</td>\n",
       "      <td>Cash</td>\n",
       "      <td>35</td>\n",
       "      <td>giza</td>\n",
       "      <td>Cairo</td>\n",
       "      <td>Bosta</td>\n",
       "      <td>3/1/2022</td>\n",
       "      <td>NaN</td>\n",
       "      <td>Cancel</td>\n",
       "    </tr>\n",
       "    <tr>\n",
       "      <th>17</th>\n",
       "      <td>#26651</td>\n",
       "      <td>New</td>\n",
       "      <td>Cash</td>\n",
       "      <td>4030</td>\n",
       "      <td>Cairo</td>\n",
       "      <td>Cairo</td>\n",
       "      <td>kindex</td>\n",
       "      <td>2/1/2022</td>\n",
       "      <td>NaN</td>\n",
       "      <td>Refused &amp; returned</td>\n",
       "    </tr>\n",
       "    <tr>\n",
       "      <th>30</th>\n",
       "      <td>#26621</td>\n",
       "      <td>New</td>\n",
       "      <td>Cash</td>\n",
       "      <td>611</td>\n",
       "      <td>Maadi-Zahraa Al Maadi</td>\n",
       "      <td>Maadi-Zahraa Al Maadi</td>\n",
       "      <td>kindex</td>\n",
       "      <td>2/1/2022</td>\n",
       "      <td>NaN</td>\n",
       "      <td>Cancel</td>\n",
       "    </tr>\n",
       "    <tr>\n",
       "      <th>31</th>\n",
       "      <td>#26622</td>\n",
       "      <td>New</td>\n",
       "      <td>Cash</td>\n",
       "      <td>305</td>\n",
       "      <td>Nasr City</td>\n",
       "      <td>Nasr City</td>\n",
       "      <td>kindex</td>\n",
       "      <td>2/1/2022</td>\n",
       "      <td>NaN</td>\n",
       "      <td>Refused &amp; returned</td>\n",
       "    </tr>\n",
       "  </tbody>\n",
       "</table>\n",
       "</div>"
      ],
      "text/plain": [
       "   Order No      Type Cash or Visa Total           Billing City  \\\n",
       "6    #26687       New         Cash   311              Nasr City   \n",
       "12   #26052  Exchange         Cash    35                   giza   \n",
       "17   #26651       New         Cash  4030                  Cairo   \n",
       "30   #26621       New         Cash   611  Maadi-Zahraa Al Maadi   \n",
       "31   #26622       New         Cash   305              Nasr City   \n",
       "\n",
       "              Governorate Shipping Company      Date Money collocation  \\\n",
       "6                   Cairo           kindex  2/1/2022               NaN   \n",
       "12                  Cairo            Bosta  3/1/2022               NaN   \n",
       "17                  Cairo           kindex  2/1/2022               NaN   \n",
       "30  Maadi-Zahraa Al Maadi           kindex  2/1/2022               NaN   \n",
       "31              Nasr City           kindex  2/1/2022               NaN   \n",
       "\n",
       "      Shipping Updates  \n",
       "6   Refused & returned  \n",
       "12              Cancel  \n",
       "17  Refused & returned  \n",
       "30              Cancel  \n",
       "31  Refused & returned  "
      ]
     },
     "execution_count": 64,
     "metadata": {},
     "output_type": "execute_result"
    }
   ],
   "source": [
    "df3=df2[df2['Shipping Updates']!='Delivered']\n",
    "df3.head()"
   ]
  },
  {
   "cell_type": "code",
   "execution_count": 65,
   "metadata": {},
   "outputs": [
    {
     "data": {
      "text/plain": [
       "129"
      ]
     },
     "execution_count": 65,
     "metadata": {},
     "output_type": "execute_result"
    }
   ],
   "source": [
    "len((df3['Cash or Visa']=='visa'))"
   ]
  },
  {
   "cell_type": "code",
   "execution_count": 66,
   "metadata": {},
   "outputs": [
    {
     "data": {
      "text/plain": [
       "2/1/2022     21\n",
       "9/1/2022     18\n",
       "30/1/2022    13\n",
       "16/1/2022     8\n",
       "3/1/2022      8\n",
       "4/1/2022      8\n",
       "11/1/2022     6\n",
       "31/1/2022     6\n",
       "23/1/2022     6\n",
       "10/1/2022     5\n",
       "5/1/2022      5\n",
       "24/1/2022     4\n",
       "12/1/2022     4\n",
       "25/1/2022     4\n",
       "17/1/2022     3\n",
       "19/1/2022     3\n",
       "20/1/2022     3\n",
       "13/1/2022     2\n",
       "18/1/2022     1\n",
       "26/1/2022     1\n",
       "Name: Date, dtype: int64"
      ]
     },
     "execution_count": 66,
     "metadata": {},
     "output_type": "execute_result"
    }
   ],
   "source": [
    "avg_cancelled=df3['Date'].value_counts()\n",
    "#round((avg_cancelled.mean()),1)\n",
    "avg_cancelled"
   ]
  },
  {
   "cell_type": "code",
   "execution_count": 67,
   "metadata": {},
   "outputs": [],
   "source": [
    "Data3={ 'date':['2/1/2022',\n",
    " '9/1/2022',\n",
    " '30/1/2022',\n",
    " '16/1/2022',\n",
    " '4/1/2022',\n",
    " '3/1/2022',\n",
    " '23/1/2022',\n",
    " '31/1/2022',\n",
    " '11/1/2022',\n",
    " '5/1/2022',\n",
    " '10/1/2022',\n",
    " '12/1/2022',\n",
    " '25/1/2022',\n",
    " '24/1/2022',\n",
    " '17/1/2022',\n",
    " '20/1/2022',\n",
    " '19/1/2022',\n",
    " '13/1/2022',\n",
    " '26/1/2022',\n",
    " '18/1/2022'],\n",
    "      'faild_orders':[21,18,13,8,8,8,6,6,6,5,5,4,4,4,3,3,3,2,1,1]}\n",
    "cancelled_per_day = pd.DataFrame(Data3)\n",
    "cancelled_per_day\n",
    "file_name = 'sigma_fit_1st.xlsx'\n",
    "cancelled_per_day.to_excel(file_name)\n"
   ]
  },
  {
   "cell_type": "code",
   "execution_count": 74,
   "metadata": {},
   "outputs": [
    {
     "data": {
      "text/html": [
       "<div>\n",
       "<style scoped>\n",
       "    .dataframe tbody tr th:only-of-type {\n",
       "        vertical-align: middle;\n",
       "    }\n",
       "\n",
       "    .dataframe tbody tr th {\n",
       "        vertical-align: top;\n",
       "    }\n",
       "\n",
       "    .dataframe thead th {\n",
       "        text-align: right;\n",
       "    }\n",
       "</style>\n",
       "<table border=\"1\" class=\"dataframe\">\n",
       "  <thead>\n",
       "    <tr style=\"text-align: right;\">\n",
       "      <th></th>\n",
       "      <th>date</th>\n",
       "      <th>faild_orders</th>\n",
       "      <th>total_orders</th>\n",
       "      <th>%_of_faild</th>\n",
       "    </tr>\n",
       "  </thead>\n",
       "  <tbody>\n",
       "    <tr>\n",
       "      <th>0</th>\n",
       "      <td>2/1/2022</td>\n",
       "      <td>21</td>\n",
       "      <td>184</td>\n",
       "      <td>0.11</td>\n",
       "    </tr>\n",
       "    <tr>\n",
       "      <th>1</th>\n",
       "      <td>9/1/2022</td>\n",
       "      <td>18</td>\n",
       "      <td>134</td>\n",
       "      <td>0.13</td>\n",
       "    </tr>\n",
       "    <tr>\n",
       "      <th>2</th>\n",
       "      <td>30/1/2022</td>\n",
       "      <td>13</td>\n",
       "      <td>198</td>\n",
       "      <td>0.07</td>\n",
       "    </tr>\n",
       "    <tr>\n",
       "      <th>3</th>\n",
       "      <td>16/1/2022</td>\n",
       "      <td>8</td>\n",
       "      <td>96</td>\n",
       "      <td>0.08</td>\n",
       "    </tr>\n",
       "    <tr>\n",
       "      <th>4</th>\n",
       "      <td>4/1/2022</td>\n",
       "      <td>8</td>\n",
       "      <td>51</td>\n",
       "      <td>0.16</td>\n",
       "    </tr>\n",
       "    <tr>\n",
       "      <th>5</th>\n",
       "      <td>3/1/2022</td>\n",
       "      <td>8</td>\n",
       "      <td>49</td>\n",
       "      <td>0.16</td>\n",
       "    </tr>\n",
       "    <tr>\n",
       "      <th>6</th>\n",
       "      <td>23/1/2022</td>\n",
       "      <td>6</td>\n",
       "      <td>100</td>\n",
       "      <td>0.06</td>\n",
       "    </tr>\n",
       "    <tr>\n",
       "      <th>7</th>\n",
       "      <td>31/1/2022</td>\n",
       "      <td>6</td>\n",
       "      <td>57</td>\n",
       "      <td>0.11</td>\n",
       "    </tr>\n",
       "    <tr>\n",
       "      <th>8</th>\n",
       "      <td>11/1/2022</td>\n",
       "      <td>6</td>\n",
       "      <td>39</td>\n",
       "      <td>0.15</td>\n",
       "    </tr>\n",
       "    <tr>\n",
       "      <th>9</th>\n",
       "      <td>5/1/2022</td>\n",
       "      <td>5</td>\n",
       "      <td>64</td>\n",
       "      <td>0.08</td>\n",
       "    </tr>\n",
       "    <tr>\n",
       "      <th>10</th>\n",
       "      <td>10/1/2022</td>\n",
       "      <td>5</td>\n",
       "      <td>34</td>\n",
       "      <td>0.15</td>\n",
       "    </tr>\n",
       "    <tr>\n",
       "      <th>11</th>\n",
       "      <td>12/1/2022</td>\n",
       "      <td>4</td>\n",
       "      <td>31</td>\n",
       "      <td>0.13</td>\n",
       "    </tr>\n",
       "    <tr>\n",
       "      <th>12</th>\n",
       "      <td>25/1/2022</td>\n",
       "      <td>4</td>\n",
       "      <td>47</td>\n",
       "      <td>0.09</td>\n",
       "    </tr>\n",
       "    <tr>\n",
       "      <th>13</th>\n",
       "      <td>24/1/2022</td>\n",
       "      <td>4</td>\n",
       "      <td>38</td>\n",
       "      <td>0.11</td>\n",
       "    </tr>\n",
       "    <tr>\n",
       "      <th>14</th>\n",
       "      <td>17/1/2022</td>\n",
       "      <td>3</td>\n",
       "      <td>37</td>\n",
       "      <td>0.08</td>\n",
       "    </tr>\n",
       "    <tr>\n",
       "      <th>15</th>\n",
       "      <td>20/1/2022</td>\n",
       "      <td>3</td>\n",
       "      <td>26</td>\n",
       "      <td>0.12</td>\n",
       "    </tr>\n",
       "    <tr>\n",
       "      <th>16</th>\n",
       "      <td>19/1/2022</td>\n",
       "      <td>3</td>\n",
       "      <td>28</td>\n",
       "      <td>0.11</td>\n",
       "    </tr>\n",
       "    <tr>\n",
       "      <th>17</th>\n",
       "      <td>13/1/2022</td>\n",
       "      <td>2</td>\n",
       "      <td>38</td>\n",
       "      <td>0.05</td>\n",
       "    </tr>\n",
       "    <tr>\n",
       "      <th>18</th>\n",
       "      <td>26/1/2022</td>\n",
       "      <td>1</td>\n",
       "      <td>31</td>\n",
       "      <td>0.03</td>\n",
       "    </tr>\n",
       "    <tr>\n",
       "      <th>19</th>\n",
       "      <td>18/1/2022</td>\n",
       "      <td>1</td>\n",
       "      <td>32</td>\n",
       "      <td>0.03</td>\n",
       "    </tr>\n",
       "  </tbody>\n",
       "</table>\n",
       "</div>"
      ],
      "text/plain": [
       "         date  faild_orders  total_orders  %_of_faild\n",
       "0    2/1/2022            21           184        0.11\n",
       "1    9/1/2022            18           134        0.13\n",
       "2   30/1/2022            13           198        0.07\n",
       "3   16/1/2022             8            96        0.08\n",
       "4    4/1/2022             8            51        0.16\n",
       "5    3/1/2022             8            49        0.16\n",
       "6   23/1/2022             6           100        0.06\n",
       "7   31/1/2022             6            57        0.11\n",
       "8   11/1/2022             6            39        0.15\n",
       "9    5/1/2022             5            64        0.08\n",
       "10  10/1/2022             5            34        0.15\n",
       "11  12/1/2022             4            31        0.13\n",
       "12  25/1/2022             4            47        0.09\n",
       "13  24/1/2022             4            38        0.11\n",
       "14  17/1/2022             3            37        0.08\n",
       "15  20/1/2022             3            26        0.12\n",
       "16  19/1/2022             3            28        0.11\n",
       "17  13/1/2022             2            38        0.05\n",
       "18  26/1/2022             1            31        0.03\n",
       "19  18/1/2022             1            32        0.03"
      ]
     },
     "execution_count": 74,
     "metadata": {},
     "output_type": "execute_result"
    }
   ],
   "source": [
    "date_both = cancelled_per_day.join(orders_per_day.set_index('date'),on ='date')\n",
    "\n",
    "date_both['%_of_faild'] = round(date_both['faild_orders']/date_both['total_orders'],2)\n",
    "date_both\n"
   ]
  },
  {
   "cell_type": "code",
   "execution_count": 69,
   "metadata": {},
   "outputs": [
    {
     "data": {
      "text/plain": [
       "6.45"
      ]
     },
     "execution_count": 69,
     "metadata": {},
     "output_type": "execute_result"
    }
   ],
   "source": [
    "date_both['faild_orders'].mean()"
   ]
  },
  {
   "cell_type": "raw",
   "metadata": {},
   "source": [
    "sunday: highest cancellation rate \n",
    "\n",
    "first week in the year 2,3,4/1"
   ]
  },
  {
   "cell_type": "code",
   "execution_count": 70,
   "metadata": {},
   "outputs": [],
   "source": [
    "sigma_data_after_cleaning = df2"
   ]
  },
  {
   "cell_type": "code",
   "execution_count": 71,
   "metadata": {},
   "outputs": [],
   "source": [
    "datatoexcel = pd.ExcelWriter('sigma_data_after_cleaning.xlsx')\n",
    "  \n",
    "# write DataFrame to excel\n",
    "sigma_data_after_cleaning.to_excel(datatoexcel)\n",
    "  \n",
    "# save the excel\n",
    "datatoexcel.save()"
   ]
  },
  {
   "cell_type": "code",
   "execution_count": 72,
   "metadata": {},
   "outputs": [
    {
     "data": {
      "text/html": [
       "<div>\n",
       "<style scoped>\n",
       "    .dataframe tbody tr th:only-of-type {\n",
       "        vertical-align: middle;\n",
       "    }\n",
       "\n",
       "    .dataframe tbody tr th {\n",
       "        vertical-align: top;\n",
       "    }\n",
       "\n",
       "    .dataframe thead th {\n",
       "        text-align: right;\n",
       "    }\n",
       "</style>\n",
       "<table border=\"1\" class=\"dataframe\">\n",
       "  <thead>\n",
       "    <tr style=\"text-align: right;\">\n",
       "      <th></th>\n",
       "      <th>Unnamed: 0</th>\n",
       "      <th>Unnamed: 1</th>\n",
       "      <th>Unnamed: 2</th>\n",
       "      <th>Unnamed: 3</th>\n",
       "      <th>Unnamed: 4</th>\n",
       "      <th>Unnamed: 5</th>\n",
       "      <th>Unnamed: 6</th>\n",
       "    </tr>\n",
       "  </thead>\n",
       "  <tbody>\n",
       "    <tr>\n",
       "      <th>0</th>\n",
       "      <td>Reason</td>\n",
       "      <td>(All)</td>\n",
       "      <td>NaN</td>\n",
       "      <td>NaN</td>\n",
       "      <td>NaN</td>\n",
       "      <td>NaN</td>\n",
       "      <td>NaN</td>\n",
       "    </tr>\n",
       "    <tr>\n",
       "      <th>1</th>\n",
       "      <td>Order No</td>\n",
       "      <td>(All)</td>\n",
       "      <td>NaN</td>\n",
       "      <td>NaN</td>\n",
       "      <td>NaN</td>\n",
       "      <td>NaN</td>\n",
       "      <td>NaN</td>\n",
       "    </tr>\n",
       "    <tr>\n",
       "      <th>2</th>\n",
       "      <td>NaN</td>\n",
       "      <td>NaN</td>\n",
       "      <td>NaN</td>\n",
       "      <td>NaN</td>\n",
       "      <td>NaN</td>\n",
       "      <td>NaN</td>\n",
       "      <td>NaN</td>\n",
       "    </tr>\n",
       "    <tr>\n",
       "      <th>3</th>\n",
       "      <td>Sum of Total</td>\n",
       "      <td>Shipping Updates</td>\n",
       "      <td>NaN</td>\n",
       "      <td>NaN</td>\n",
       "      <td>NaN</td>\n",
       "      <td>NaN</td>\n",
       "      <td>NaN</td>\n",
       "    </tr>\n",
       "    <tr>\n",
       "      <th>4</th>\n",
       "      <td>Type</td>\n",
       "      <td>Cancel</td>\n",
       "      <td>Delivered</td>\n",
       "      <td>Refused &amp; returned</td>\n",
       "      <td>pending</td>\n",
       "      <td>(blank)</td>\n",
       "      <td>Grand Total</td>\n",
       "    </tr>\n",
       "  </tbody>\n",
       "</table>\n",
       "</div>"
      ],
      "text/plain": [
       "     Unnamed: 0        Unnamed: 1 Unnamed: 2          Unnamed: 3 Unnamed: 4  \\\n",
       "0        Reason             (All)        NaN                 NaN        NaN   \n",
       "1      Order No             (All)        NaN                 NaN        NaN   \n",
       "2           NaN               NaN        NaN                 NaN        NaN   \n",
       "3  Sum of Total  Shipping Updates        NaN                 NaN        NaN   \n",
       "4          Type            Cancel  Delivered  Refused & returned    pending   \n",
       "\n",
       "  Unnamed: 5   Unnamed: 6  \n",
       "0        NaN          NaN  \n",
       "1        NaN          NaN  \n",
       "2        NaN          NaN  \n",
       "3        NaN          NaN  \n",
       "4    (blank)  Grand Total  "
      ]
     },
     "execution_count": 72,
     "metadata": {},
     "output_type": "execute_result"
    }
   ],
   "source": [
    "dummys=pd.read_excel(r'C:\\Users\\FADIA\\Downloads\\Dummy Data (5).xlsx')\n",
    "dummys.head()"
   ]
  },
  {
   "cell_type": "code",
   "execution_count": 73,
   "metadata": {},
   "outputs": [
    {
     "data": {
      "text/plain": [
       "2"
      ]
     },
     "execution_count": 73,
     "metadata": {},
     "output_type": "execute_result"
    }
   ],
   "source": [
    "bosta_delivered=delivered[delivered['Shipping Company']=='Bosta']\n",
    "Ehab_delivered=delivered[delivered['Shipping Company']=='Ehab']\n",
    "Mylerz_delivered=delivered[delivered['Shipping Company']=='Mylerz']\n",
    "kareem_delivered=delivered[delivered['Shipping Company']=='kareem']\n",
    "kindex_delivered=delivered[delivered['Shipping Company']=='kindex']\n",
    "aramex_delivered=delivered[delivered['Shipping Company']=='aramex']\n",
    "Islam_delivered=delivered[delivered['Shipping Company']=='Islam']\n",
    "WHR_delivered=delivered[delivered['Shipping Company']=='WHR']\n",
    "\n",
    "\n",
    "\n",
    "len(WHR_delivered)\n"
   ]
  }
 ],
 "metadata": {
  "kernelspec": {
   "display_name": "Python 3",
   "language": "python",
   "name": "python3"
  },
  "language_info": {
   "codemirror_mode": {
    "name": "ipython",
    "version": 3
   },
   "file_extension": ".py",
   "mimetype": "text/x-python",
   "name": "python",
   "nbconvert_exporter": "python",
   "pygments_lexer": "ipython3",
   "version": "3.8.5"
  }
 },
 "nbformat": 4,
 "nbformat_minor": 4
}
